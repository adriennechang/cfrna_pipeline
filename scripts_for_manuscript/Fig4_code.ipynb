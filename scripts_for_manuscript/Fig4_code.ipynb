{
 "cells": [
  {
   "cell_type": "code",
   "execution_count": 1,
   "id": "fd9bfd49",
   "metadata": {},
   "outputs": [],
   "source": [
    "suppressMessages(library(magrittr))      # provides the %>% operator\n",
    "suppressMessages(library(\"genefilter\"))\n",
    "suppressMessages(library(DESeq2))\n",
    "suppressMessages(library(tximport))\n",
    "suppressMessages(library(\"readr\"))\n",
    "suppressMessages(library(\"tximportData\"))\n",
    "suppressMessages(library(data.table))\n",
    "\n",
    "suppressMessages(library(matrixStats))\n",
    "suppressMessages(library(org.Hs.eg.db))\n",
    "suppressMessages(library(topGO))\n",
    "\n",
    "suppressMessages(library(pheatmap))\n",
    "suppressMessages(library(gplots))\n",
    "suppressMessages(library(matrixStats))\n",
    "suppressMessages(library(ggvenn))\n",
    "suppressMessages(library(edgeR))\n",
    "suppressMessages(library(pROC))\n",
    "suppressMessages(library(ggpubr))\n",
    "suppressMessages(library(eulerr))\n",
    "\n",
    "options(stringsAsFactors = FALSE)\n",
    "set.seed(42)"
   ]
  },
  {
   "cell_type": "code",
   "execution_count": 2,
   "id": "8df6a163",
   "metadata": {},
   "outputs": [],
   "source": [
    "count_matrix_wb = \"../files_for_manuscript/count_matrix_wbrna.txt\"\n",
    "count_file_plasma = \"../files_for_manuscript/count_matrix_validation.txt\"\n",
    "SAMPLE_ID_VAR = \"Cornell_ID\"\n",
    "gene_name_key = \"../files_for_manuscript/gencode.biotype.name.key.tsv\"\n",
    "gene.list = read.delim(gene_name_key)\n",
    "meta = read.delim(\"../files_for_manuscript/meta_data_updated.txt\")\n",
    "top150 = read.delim(\"../files_for_manuscript/top150genes.csv\")\n",
    "keep.gene = gene.list[gene.list$gene_name %in% top150$x,1]\n",
    "signature = gene.list[gene.list$gene_name %in% c(\"GBP5\",\"DYSF\",\"VAMP5\",\"SMARCD3\",\"FCGR3B\",\"GPI\",\"CREB5\",\"GBP2\", \"MPO\"),1]"
   ]
  },
  {
   "cell_type": "code",
   "execution_count": 3,
   "id": "2aa09145",
   "metadata": {},
   "outputs": [],
   "source": [
    "meta$`Semiquant.Xpert.result.3`[meta$Semiquant.Xpert.result.3 == \"Trace\"]= \"Low\"\n",
    "meta$`Semiquant.Xpert.result.3`[meta$Semiquant.Xpert.result.3 == \"Very low\"]= \"Low\"\n",
    "meta$`Semiquant.Xpert.result.3`[meta$Microbiologic.reference.standard == \"Negative\"]= \"Negative\""
   ]
  },
  {
   "cell_type": "code",
   "execution_count": 4,
   "id": "4b9af6c6",
   "metadata": {},
   "outputs": [],
   "source": [
    "counts_plasma = read.delim(count_file_plasma, row.names=c(1))\n",
    "counts_wb = read.delim(count_matrix_wb, row.names=c(\"geneID\")) %>% select(-c(row.names))\n",
    "counts_all = merge(counts_plasma, counts_wb, by=\"row.names\") \n",
    "counts_all[is.na(counts_all)]=0\n",
    "rownames(counts_all)=counts_all$Row.names\n",
    "counts_wb = counts_all[,grepl(\"WBRNA\", colnames(counts_all))]\n",
    "counts_plasma = counts_all[,grepl(\"cfRNA\", colnames(counts_all))]"
   ]
  },
  {
   "cell_type": "markdown",
   "id": "fe41f107",
   "metadata": {},
   "source": [
    "## FIG 4A"
   ]
  },
  {
   "cell_type": "code",
   "execution_count": 5,
   "id": "ca89f069",
   "metadata": {
    "scrolled": true
   },
   "outputs": [
    {
     "name": "stderr",
     "output_type": "stream",
     "text": [
      "Setting levels: control = Negative, case = Positive\n",
      "\n",
      "Setting direction: controls < cases\n",
      "\n",
      "Setting levels: control = Negative, case = Positive\n",
      "\n",
      "Setting direction: controls < cases\n",
      "\n"
     ]
    }
   ],
   "source": [
    "plasma_score = counts_plasma[rownames(counts_plasma) %in% keep.gene,] %>% edgeR::cpm() %>% data.frame() %>%\n",
    "filter(rownames(.)%in% signature) %>% data.frame() %>% mutate_all(as.numeric) %>% \n",
    "mutate( log2( . +1))  %>% summarise_all(mean) %>%\n",
    "t() %>% data.frame() %>% magrittr::set_colnames(\"score\" ) %>% tibble::add_column('sample'=rownames( . )) %>%\n",
    "merge(. , meta, by.x=\"sample\",by.y=\"Cornell_ID\") %>%\n",
    "mutate(Semiquant.Xpert.result.3 = factor(Semiquant.Xpert.result.3, levels=c(\"Negative\",\"Low\",\"Medium\",\"High\"))) %>%\n",
    "   group_by(Semiquant.Xpert.result.3, cohort)%>% \n",
    "mutate(Microbiologic.reference.standard=factor(Microbiologic.reference.standard, levels=c(\"Negative\",\"Positive\")))\n",
    "\n",
    "\n",
    "wb_score = counts_wb[rownames(counts_wb) %in% keep.gene,] %>% edgeR::cpm() %>% data.frame() %>%\n",
    "filter(rownames(.)%in% signature) %>% data.frame() %>% mutate_all(as.numeric) %>% \n",
    "mutate( log2( . +1))  %>% summarise_all(mean) %>%\n",
    "t() %>% data.frame() %>% magrittr::set_colnames(\"score\" ) %>% tibble::add_column('sample'=rownames( . )) %>%\n",
    "merge(. , meta, by.x=\"sample\",by.y=\"Cornell_ID\") %>%\n",
    "mutate(Semiquant.Xpert.result.3 = factor(Semiquant.Xpert.result.3, levels=c(\"Negative\",\"Low\",\"Medium\",\"High\"))) %>%\n",
    "   group_by(Semiquant.Xpert.result.3, cohort) %>%\n",
    "mutate(Microbiologic.reference.standard=factor(Microbiologic.reference.standard, levels=c(\"Negative\",\"Positive\")))\n",
    "\n",
    "\n",
    "roc_plasma = plasma_score %>% roc(Microbiologic.reference.standard, score, percent=T)\n",
    "roc_wb = wb_score %>% roc(Microbiologic.reference.standard, score, percent=T)"
   ]
  },
  {
   "cell_type": "code",
   "execution_count": 6,
   "id": "3c1611d3",
   "metadata": {
    "scrolled": true
   },
   "outputs": [
    {
     "name": "stderr",
     "output_type": "stream",
     "text": [
      "Warning message:\n",
      "“\u001b[1m\u001b[22mUsing `size` aesthetic for lines was deprecated in ggplot2 3.4.0.\n",
      "\u001b[36mℹ\u001b[39m Please use `linewidth` instead.”\n"
     ]
    },
    {
     "data": {
      "image/png": "[encoded data removed]",
      "text/plain": [
       "plot without title"
      ]
     },
     "metadata": {
      "image/png": {
       "height": 84,
       "width": 102
      }
     },
     "output_type": "display_data"
    }
   ],
   "source": [
    "\n",
    "options(repr.plot.height=1.4, repr.plot.width=1.7)\n",
    "ggroc(list(\"TB2 (Plasma)\"= roc_plasma, \"TB2 (WB)\" = roc_wb ),aes=c(\"color\"))  +\n",
    "    theme_bw(base_size=6) + guides(color=\"none\", linetype=\"none\")+\n",
    "    geom_line(size=1,alpha=0.5)+ scale_color_manual(values=c(\"#96BE25\",\"#F88C1A\")) +\n",
    "xlab(\"Specificity (%)\") + ylab(\"Sensitivity (%)\") +\n",
    "theme(axis.text=element_text(size=6, color=\"black\"), axis.title=element_text(size=8, color=\"black\"))\n"
   ]
  },
  {
   "cell_type": "code",
   "execution_count": 7,
   "id": "5af21b34",
   "metadata": {},
   "outputs": [
    {
     "data": {
      "text/html": [
       "<style>\n",
       ".list-inline {list-style: none; margin:0; padding: 0}\n",
       ".list-inline>li {display: inline-block}\n",
       ".list-inline>li:not(:last-child)::after {content: \"\\00b7\"; padding: 0 .5ex}\n",
       "</style>\n",
       "<ol class=list-inline><li>73.0532833474864</li><li>84.453781512605</li><li>95.8542796777236</li></ol>\n"
      ],
      "text/latex": [
       "\\begin{enumerate*}\n",
       "\\item 73.0532833474864\n",
       "\\item 84.453781512605\n",
       "\\item 95.8542796777236\n",
       "\\end{enumerate*}\n"
      ],
      "text/markdown": [
       "1. 73.0532833474864\n",
       "2. 84.453781512605\n",
       "3. 95.8542796777236\n",
       "\n",
       "\n"
      ],
      "text/plain": [
       "95% CI: 73.05%-95.85% (DeLong)"
      ]
     },
     "metadata": {},
     "output_type": "display_data"
    },
    {
     "data": {
      "text/html": [
       "<style>\n",
       ".list-inline {list-style: none; margin:0; padding: 0}\n",
       ".list-inline>li {display: inline-block}\n",
       ".list-inline>li:not(:last-child)::after {content: \"\\00b7\"; padding: 0 .5ex}\n",
       "</style>\n",
       "<ol class=list-inline><li>68.2800112581751</li><li>80.812324929972</li><li>93.3446386017689</li></ol>\n"
      ],
      "text/latex": [
       "\\begin{enumerate*}\n",
       "\\item 68.2800112581751\n",
       "\\item 80.812324929972\n",
       "\\item 93.3446386017689\n",
       "\\end{enumerate*}\n"
      ],
      "text/markdown": [
       "1. 68.2800112581751\n",
       "2. 80.812324929972\n",
       "3. 93.3446386017689\n",
       "\n",
       "\n"
      ],
      "text/plain": [
       "95% CI: 68.28%-93.34% (DeLong)"
      ]
     },
     "metadata": {},
     "output_type": "display_data"
    }
   ],
   "source": [
    "ci.auc(roc_plasma)\n",
    "ci.auc(roc_wb)"
   ]
  },
  {
   "cell_type": "markdown",
   "id": "1101b0ee",
   "metadata": {},
   "source": [
    "## FIG 4B"
   ]
  },
  {
   "cell_type": "code",
   "execution_count": 8,
   "id": "04474711",
   "metadata": {},
   "outputs": [
    {
     "name": "stderr",
     "output_type": "stream",
     "text": [
      "\u001b[1m\u001b[22m`summarise()` has grouped output by 'Semiquant.Xpert.result.3'. You can\n",
      "override using the `.groups` argument.\n",
      "\u001b[1m\u001b[22m`summarise()` has grouped output by 'Semiquant.Xpert.result.3'. You can\n",
      "override using the `.groups` argument.\n"
     ]
    }
   ],
   "source": [
    "plasma_semiq = counts_plasma[rownames(counts_plasma) %in% keep.gene,] %>% edgeR::cpm() %>% data.frame() %>%\n",
    "filter(rownames(.)%in% signature) %>% data.frame() %>% mutate_all(as.numeric) %>% \n",
    "mutate( log2( . +1))  %>% summarise_all(mean) %>%\n",
    "t() %>% data.frame() %>% magrittr::set_colnames(\"score\" ) %>% tibble::add_column('sample'=rownames( . )) %>%\n",
    "merge(. , meta, by.x=\"sample\",by.y=\"Cornell_ID\") %>%filter(Semiquant.Xpert.result.3 !=\"\") %>% \n",
    "mutate(Semiquant.Xpert.result.3 = factor(Semiquant.Xpert.result.3, levels=c(\"Negative\",\"Low\",\"Medium\",\"High\"))) %>%\n",
    "   group_by(Semiquant.Xpert.result.3, cohort)%>% summarise(mean = mean(score, na.rm = TRUE),\n",
    "                                                             sd = sd(score, na.rm = TRUE),\n",
    "                                                             n = n()) %>%\n",
    "    mutate(se = sd / sqrt(n),\n",
    "           lower.ci = mean - qt(1 - (0.05 / 2), n - 1) * se,\n",
    "           upper.ci = mean + qt(1 - (0.05 / 2), n - 1) * se)  %>% tibble::add_column('biofluid'=\"plasma\")\n",
    "\n",
    "\n",
    "wb_semiq = counts_wb[rownames(counts_wb) %in% keep.gene,] %>% edgeR::cpm() %>% data.frame() %>%\n",
    "filter(rownames(.)%in% signature) %>% data.frame() %>% mutate_all(as.numeric) %>% \n",
    "mutate( log2( . +1))  %>% summarise_all(mean) %>%\n",
    "t() %>% data.frame() %>% magrittr::set_colnames(\"score\" ) %>% tibble::add_column('sample'=rownames( . )) %>%\n",
    "merge(. , meta, by.x=\"sample\",by.y=\"Cornell_ID\")%>%\n",
    "filter(Semiquant.Xpert.result.3 !=\"\") %>%\n",
    "mutate(Semiquant.Xpert.result.3 = factor(Semiquant.Xpert.result.3, levels=c(\"Negative\",\"Low\",\"Medium\",\"High\"))) %>%\n",
    "   group_by(Semiquant.Xpert.result.3, cohort)%>% summarise(mean = mean(score, na.rm = TRUE),\n",
    "                                                             sd = sd(score, na.rm = TRUE),\n",
    "                                                             n = n()) %>%\n",
    "    mutate(se = sd / sqrt(n),\n",
    "           lower.ci = mean - qt(1 - (0.05 / 2), n - 1) * se,\n",
    "           upper.ci = mean + qt(1 - (0.05 / 2), n - 1) * se) %>% tibble::add_column('biofluid'=\"wb\")"
   ]
  },
  {
   "cell_type": "code",
   "execution_count": 9,
   "id": "2283e7bc",
   "metadata": {},
   "outputs": [
    {
     "data": {
      "image/png": "[encoded data removed]",
      "text/plain": [
       "plot without title"
      ]
     },
     "metadata": {
      "image/png": {
       "height": 90,
       "width": 102
      }
     },
     "output_type": "display_data"
    }
   ],
   "source": [
    "options(repr.plot.height=1.5, repr.plot.width=1.7)\n",
    "\n",
    "rbind(plasma_semiq, wb_semiq) %>% \n",
    "filter(!is.na(Semiquant.Xpert.result.3)) %>%\n",
    "    ggplot(aes(x=Semiquant.Xpert.result.3, y=mean, color=biofluid, group=biofluid)) + \n",
    "    geom_line(size=1) + geom_errorbar(size=1, aes(ymin=lower.ci, ymax=upper.ci)) + \n",
    " geom_point(size=1) + theme_bw(base_size=8) +\n",
    "    theme( legend.text=element_text(color=\"black\", size=8), legend.position=\"none\", legend.title=element_blank(), \n",
    "          legend.key.size = unit(0.1, 'mm'),\n",
    "         axis.text=element_text(color=\"black\")) +\n",
    "    xlab(\"GeneXpert\\nSemiquantitative Result\") + ylab(\"9-gene TB score\")  +\n",
    "    scale_color_manual(values=c(\"#96BE25\", \"#F88C1A\")) +\n",
    "geom_hline(yintercept=11.6975977111331, linetype=\"dashed\", size=1)"
   ]
  },
  {
   "cell_type": "markdown",
   "id": "52970660",
   "metadata": {},
   "source": [
    "## FIG 4C"
   ]
  },
  {
   "cell_type": "code",
   "execution_count": 10,
   "id": "dfc6ae90",
   "metadata": {},
   "outputs": [],
   "source": [
    "cto_discovery =read.delim(\"../files_for_manuscript/cto.txt\")\n",
    "cto_validation = read.delim(\"../files_for_manuscript/cto_validation.txt\")\n",
    "cto_wb = read.delim(\"../files_for_manuscript/cto_wb.txt\")"
   ]
  },
  {
   "cell_type": "code",
   "execution_count": 11,
   "id": "66c1edfe",
   "metadata": {
    "scrolled": true
   },
   "outputs": [
    {
     "name": "stderr",
     "output_type": "stream",
     "text": [
      "Warning message in melt(decon, id.vars = \"sample_id\"):\n",
      "“The melt generic in data.table has been passed a data.frame and will attempt to redirect to the relevant reshape2 method; please note that reshape2 is deprecated, and this redirection is now deprecated as well. To continue using melt methods from reshape2 while both libraries are attached, e.g. melt.list, you can prepend the namespace like reshape2::melt(decon). In the next version, this warning will become an error.”\n"
     ]
    }
   ],
   "source": [
    "decon = rbind(cto_discovery, cto_validation, cto_wb)\n",
    "decon_melt = unique(melt(decon, id.vars=\"sample_id\") %>% rename(celltype = variable, fraction = value)  %>%\n",
    "    merge(. , meta, by.x=\"sample_id\", by.y=\"Cornell_ID\"))"
   ]
  },
  {
   "cell_type": "code",
   "execution_count": 12,
   "id": "9d15bcd3",
   "metadata": {},
   "outputs": [],
   "source": [
    "results <- decon_melt\n",
    "sum <- results %>% group_by(celltype) %>% summarize(mean=mean(fraction))\n",
    "sum <- sum[order(sum$mean,decreasing=TRUE),]\n",
    "\n",
    "genes = sum$celltype\n",
    "\n",
    "suppressMesssages(library(qualpalr))\n",
    "\n",
    "num_cells = length(genes)\n",
    "pal = sample(rev(qualpal(num_cells, colorspace=list(h=c(0,360), s=c(0.3,1), l=c(0.2,0.8)))$hex))\n",
    "pal = c('#1362AB','#740C33','#2C8DAF','#FB927F','#5CFBF4','#0234C1','#86C35E','#B414A8','#F191B8','#949D0A','#700862','#F5DB9E','#209510','#DBB008','#5C6BFA','#B27DF2','#D6F306','#5EFE36','#A9DAC9','#B2040D','#203760','#4D5D0D','#4A1E80','#F63DFA','#F8169B','#175738','#0C8559','#A1506B','#861FF1','#2BBBB3','#5E210C','#36B976','#CAA376','#D75E16','#73480D','#39F9AD','#85D2F8','#65A2FC','#FC092B','#94A514','#AEBBE6')\n",
    "\n",
    "colors = pal\n",
    "labels = genes\n",
    "\n",
    "val_vector = colors\n",
    "names(val_vector) = labels"
   ]
  },
  {
   "cell_type": "code",
   "execution_count": 13,
   "id": "f2e88dce",
   "metadata": {
    "scrolled": true
   },
   "outputs": [],
   "source": [
    "solid_labels = c('Fibroblast mesenchymal stem cell',\n",
    "                'Endothelial.cell',\n",
    "    'Respiratory.ciliated.cell',\n",
    "                 'Ionocyte.luminal.epithelial.cell.of.mammary.gland','Kidney.epithelial.cell',\n",
    "                 'Cell.of.skeletal.muscle','Intestinal.tuft.cell',\n",
    "    'Intestinal.enterocyte',\n",
    "                 'Prostate.epithelia',\n",
    "    'Salivary.bronchial.secretory.cell',\n",
    "    'Intestinal.secretory.cell',\n",
    "                 'Secretory.cell','Respiratory.secretory.cell','Basal.prostate.cell','Basal.cell',\n",
    "                 'Salivary.gland.cell','Pancreatic.Stellate.cell','Type.II.Pneumocyte',\n",
    "                 'Intrahepatic.cholangiocyte','Gland.cell','Mesothelial cell',\n",
    "    'Schwann.cell',\n",
    "                 'Pancreatic.alpha.beta.cell','Tendon cell',\n",
    "    'Pericyte.cell')\n",
    "solid_colors = colors[1:25]\n",
    "\n",
    "val_vector_solid = solid_colors\n",
    "\n",
    "names(val_vector_solid) = solid_labels\n",
    "\n",
    "val_vector_solid = val_vector_solid[order(match(names(val_vector_solid),genes))]"
   ]
  },
  {
   "cell_type": "code",
   "execution_count": 14,
   "id": "2124372a",
   "metadata": {},
   "outputs": [
    {
     "data": {
      "text/html": [
       "<table class=\"dataframe\">\n",
       "<caption>A data.frame: 6 × 12</caption>\n",
       "<thead>\n",
       "\t<tr><th></th><th scope=col>sample_id</th><th scope=col>newtot</th><th scope=col>celltype</th><th scope=col>fraction</th><th scope=col>Country</th><th scope=col>cohort</th><th scope=col>HIV.status</th><th scope=col>Microbiologic.reference.standard</th><th scope=col>Semiquant.Xpert.result.3</th><th scope=col>Biofluid</th><th scope=col>expGroup</th><th scope=col>newfraction</th></tr>\n",
       "\t<tr><th></th><th scope=col>&lt;chr&gt;</th><th scope=col>&lt;dbl&gt;</th><th scope=col>&lt;fct&gt;</th><th scope=col>&lt;dbl&gt;</th><th scope=col>&lt;chr&gt;</th><th scope=col>&lt;chr&gt;</th><th scope=col>&lt;chr&gt;</th><th scope=col>&lt;chr&gt;</th><th scope=col>&lt;chr&gt;</th><th scope=col>&lt;chr&gt;</th><th scope=col>&lt;chr&gt;</th><th scope=col>&lt;dbl&gt;</th></tr>\n",
       "</thead>\n",
       "<tbody>\n",
       "\t<tr><th scope=row>1</th><td>GHL1_combined</td><td>0.9467102</td><td>Type.II.Pneumocyte                </td><td>2.079005e-04</td><td>Uganda</td><td>END TB</td><td>Negative</td><td>Negative</td><td>Negative</td><td>plasma</td><td>Negative</td><td>2.196031e-04</td></tr>\n",
       "\t<tr><th scope=row>2</th><td>GHL1_combined</td><td>0.9467102</td><td>Mature.conventional.dendritic.cell</td><td>1.328174e-02</td><td>Uganda</td><td>END TB</td><td>Negative</td><td>Negative</td><td>Negative</td><td>plasma</td><td>Negative</td><td>1.402936e-02</td></tr>\n",
       "\t<tr><th scope=row>3</th><td>GHL1_combined</td><td>0.9467102</td><td>NK.Cell                           </td><td>1.100710e-01</td><td>Uganda</td><td>END TB</td><td>Negative</td><td>Negative</td><td>Negative</td><td>plasma</td><td>Negative</td><td>1.162668e-01</td></tr>\n",
       "\t<tr><th scope=row>4</th><td>GHL1_combined</td><td>0.9467102</td><td>Respiratory.ciliated.cell         </td><td>6.312312e-04</td><td>Uganda</td><td>END TB</td><td>Negative</td><td>Negative</td><td>Negative</td><td>plasma</td><td>Negative</td><td>6.667629e-04</td></tr>\n",
       "\t<tr><th scope=row>5</th><td>GHL1_combined</td><td>0.9467102</td><td>Salivary.bronchial.secretory.cell </td><td>2.958379e-05</td><td>Uganda</td><td>END TB</td><td>Negative</td><td>Negative</td><td>Negative</td><td>plasma</td><td>Negative</td><td>3.124904e-05</td></tr>\n",
       "\t<tr><th scope=row>6</th><td>GHL1_combined</td><td>0.9467102</td><td>Myeloid.progenitor                </td><td>1.736078e-01</td><td>Uganda</td><td>END TB</td><td>Negative</td><td>Negative</td><td>Negative</td><td>plasma</td><td>Negative</td><td>1.833801e-01</td></tr>\n",
       "</tbody>\n",
       "</table>\n"
      ],
      "text/latex": [
       "A data.frame: 6 × 12\n",
       "\\begin{tabular}{r|llllllllllll}\n",
       "  & sample\\_id & newtot & celltype & fraction & Country & cohort & HIV.status & Microbiologic.reference.standard & Semiquant.Xpert.result.3 & Biofluid & expGroup & newfraction\\\\\n",
       "  & <chr> & <dbl> & <fct> & <dbl> & <chr> & <chr> & <chr> & <chr> & <chr> & <chr> & <chr> & <dbl>\\\\\n",
       "\\hline\n",
       "\t1 & GHL1\\_combined & 0.9467102 & Type.II.Pneumocyte                 & 2.079005e-04 & Uganda & END TB & Negative & Negative & Negative & plasma & Negative & 2.196031e-04\\\\\n",
       "\t2 & GHL1\\_combined & 0.9467102 & Mature.conventional.dendritic.cell & 1.328174e-02 & Uganda & END TB & Negative & Negative & Negative & plasma & Negative & 1.402936e-02\\\\\n",
       "\t3 & GHL1\\_combined & 0.9467102 & NK.Cell                            & 1.100710e-01 & Uganda & END TB & Negative & Negative & Negative & plasma & Negative & 1.162668e-01\\\\\n",
       "\t4 & GHL1\\_combined & 0.9467102 & Respiratory.ciliated.cell          & 6.312312e-04 & Uganda & END TB & Negative & Negative & Negative & plasma & Negative & 6.667629e-04\\\\\n",
       "\t5 & GHL1\\_combined & 0.9467102 & Salivary.bronchial.secretory.cell  & 2.958379e-05 & Uganda & END TB & Negative & Negative & Negative & plasma & Negative & 3.124904e-05\\\\\n",
       "\t6 & GHL1\\_combined & 0.9467102 & Myeloid.progenitor                 & 1.736078e-01 & Uganda & END TB & Negative & Negative & Negative & plasma & Negative & 1.833801e-01\\\\\n",
       "\\end{tabular}\n"
      ],
      "text/markdown": [
       "\n",
       "A data.frame: 6 × 12\n",
       "\n",
       "| <!--/--> | sample_id &lt;chr&gt; | newtot &lt;dbl&gt; | celltype &lt;fct&gt; | fraction &lt;dbl&gt; | Country &lt;chr&gt; | cohort &lt;chr&gt; | HIV.status &lt;chr&gt; | Microbiologic.reference.standard &lt;chr&gt; | Semiquant.Xpert.result.3 &lt;chr&gt; | Biofluid &lt;chr&gt; | expGroup &lt;chr&gt; | newfraction &lt;dbl&gt; |\n",
       "|---|---|---|---|---|---|---|---|---|---|---|---|---|\n",
       "| 1 | GHL1_combined | 0.9467102 | Type.II.Pneumocyte                 | 2.079005e-04 | Uganda | END TB | Negative | Negative | Negative | plasma | Negative | 2.196031e-04 |\n",
       "| 2 | GHL1_combined | 0.9467102 | Mature.conventional.dendritic.cell | 1.328174e-02 | Uganda | END TB | Negative | Negative | Negative | plasma | Negative | 1.402936e-02 |\n",
       "| 3 | GHL1_combined | 0.9467102 | NK.Cell                            | 1.100710e-01 | Uganda | END TB | Negative | Negative | Negative | plasma | Negative | 1.162668e-01 |\n",
       "| 4 | GHL1_combined | 0.9467102 | Respiratory.ciliated.cell          | 6.312312e-04 | Uganda | END TB | Negative | Negative | Negative | plasma | Negative | 6.667629e-04 |\n",
       "| 5 | GHL1_combined | 0.9467102 | Salivary.bronchial.secretory.cell  | 2.958379e-05 | Uganda | END TB | Negative | Negative | Negative | plasma | Negative | 3.124904e-05 |\n",
       "| 6 | GHL1_combined | 0.9467102 | Myeloid.progenitor                 | 1.736078e-01 | Uganda | END TB | Negative | Negative | Negative | plasma | Negative | 1.833801e-01 |\n",
       "\n"
      ],
      "text/plain": [
       "  sample_id     newtot    celltype                           fraction    \n",
       "1 GHL1_combined 0.9467102 Type.II.Pneumocyte                 2.079005e-04\n",
       "2 GHL1_combined 0.9467102 Mature.conventional.dendritic.cell 1.328174e-02\n",
       "3 GHL1_combined 0.9467102 NK.Cell                            1.100710e-01\n",
       "4 GHL1_combined 0.9467102 Respiratory.ciliated.cell          6.312312e-04\n",
       "5 GHL1_combined 0.9467102 Salivary.bronchial.secretory.cell  2.958379e-05\n",
       "6 GHL1_combined 0.9467102 Myeloid.progenitor                 1.736078e-01\n",
       "  Country cohort HIV.status Microbiologic.reference.standard\n",
       "1 Uganda  END TB Negative   Negative                        \n",
       "2 Uganda  END TB Negative   Negative                        \n",
       "3 Uganda  END TB Negative   Negative                        \n",
       "4 Uganda  END TB Negative   Negative                        \n",
       "5 Uganda  END TB Negative   Negative                        \n",
       "6 Uganda  END TB Negative   Negative                        \n",
       "  Semiquant.Xpert.result.3 Biofluid expGroup newfraction \n",
       "1 Negative                 plasma   Negative 2.196031e-04\n",
       "2 Negative                 plasma   Negative 1.402936e-02\n",
       "3 Negative                 plasma   Negative 1.162668e-01\n",
       "4 Negative                 plasma   Negative 6.667629e-04\n",
       "5 Negative                 plasma   Negative 3.124904e-05\n",
       "6 Negative                 plasma   Negative 1.833801e-01"
      ]
     },
     "metadata": {},
     "output_type": "display_data"
    }
   ],
   "source": [
    "newtot =results  %>% filter(celltype !=\"Platelet\") %>% group_by(sample_id) %>% summarise(newtot = sum(fraction))\n",
    "newresults = results %>% filter(celltype != \"Platelet\")\n",
    "newresults = merge(newtot, newresults, by=\"sample_id\")\n",
    "newresults$newfraction = (newresults$fraction)*(1/newresults$newtot)\n",
    "newresults$cohort[grepl(\"WBRNA\", newresults$sample_id)]=\"WBRNA\"\n",
    "res_melt_solid = newresults[which(newresults$celltype %in% names(val_vector_solid)),]\n",
    "head(newresults)"
   ]
  },
  {
   "cell_type": "code",
   "execution_count": 15,
   "id": "53fa87e6",
   "metadata": {
    "scrolled": true
   },
   "outputs": [],
   "source": [
    "my_comparisons <- list( c(\"END TB\", \"WBRNA\"), c(\"GHL\", \"WBRNA\"), c(\"TB2\", \"WBRNA\") )"
   ]
  },
  {
   "cell_type": "code",
   "execution_count": 16,
   "id": "de3e8414",
   "metadata": {},
   "outputs": [
    {
     "name": "stderr",
     "output_type": "stream",
     "text": [
      "\u001b[1m\u001b[22m`summarise()` has grouped output by 'sample_id'. You can override using the\n",
      "`.groups` argument.\n",
      "Warning message:\n",
      "“\u001b[1m\u001b[22mComputation failed in `stat_signif()`\n",
      "Caused by error in `if (scales$x$map(comp[1]) == data$group[1] | manual) ...`:\n",
      "\u001b[33m!\u001b[39m missing value where TRUE/FALSE needed”\n"
     ]
    },
    {
     "data": {
      "image/png": "[encoded data removed]",
      "text/plain": [
       "plot without title"
      ]
     },
     "metadata": {
      "image/png": {
       "height": 105,
       "width": 78
      }
     },
     "output_type": "display_data"
    }
   ],
   "source": [
    "options(repr.plot.height=1.75, repr.plot.width=1.3)\n",
    "res_melt_solid %>% \n",
    "    mutate(celltype = factor(celltype,levels=genes)) %>% group_by(sample_id, cohort) %>% summarise(val=sum(newfraction)) %>%\n",
    "    ggplot(aes(x=cohort,y=val, fill=cohort)) + geom_boxplot() + theme_bw(base_size=8) + \n",
    "stat_compare_means(method=\"wilcox.test\", comparisons=my_comparisons) +\n",
    "scale_x_discrete(labels=c(\"END TB\\nn = 89\", \"R2D2\\nn = 93\",\"TB2 (Plasma)\\nn=55\", \"TB2 (WB)\\nn = 51\")) + \n",
    "theme(axis.title.x=element_blank(),\n",
    "      axis.text.x=element_text(color=\"black\", angle=45, hjust=1, vjust=1, size=6),\n",
    "     axis.text.y=element_text(color=\"black\", size=6),\n",
    "     axis.title.y=element_text(color=\"black\", size=8),\n",
    "     legend.position=\"none\") + \n",
    "ylab(\"Solid Organ Fraction\") +ylim(0,1) +\n",
    "scale_fill_manual(values=c(\"#00D2DE\", \"#B5179E\", \"#96BE25\", \"#F88C1A\"))"
   ]
  },
  {
   "cell_type": "markdown",
   "id": "8e7fb86c",
   "metadata": {},
   "source": [
    "## FIG 4D"
   ]
  },
  {
   "cell_type": "code",
   "execution_count": 17,
   "id": "ebb50f27",
   "metadata": {},
   "outputs": [],
   "source": [
    "SIG_THRESH = 0.01\n",
    "FC_THRESH =0.5\n"
   ]
  },
  {
   "cell_type": "code",
   "execution_count": 18,
   "id": "8780ba42",
   "metadata": {
    "scrolled": false
   },
   "outputs": [
    {
     "name": "stderr",
     "output_type": "stream",
     "text": [
      "converting counts to integer mode\n",
      "\n"
     ]
    },
    {
     "data": {
      "text/html": [
       "TRUE"
      ],
      "text/latex": [
       "TRUE"
      ],
      "text/markdown": [
       "TRUE"
      ],
      "text/plain": [
       "[1] TRUE"
      ]
     },
     "metadata": {},
     "output_type": "display_data"
    },
    {
     "name": "stderr",
     "output_type": "stream",
     "text": [
      "estimating size factors\n",
      "\n",
      "estimating dispersions\n",
      "\n",
      "gene-wise dispersion estimates\n",
      "\n",
      "mean-dispersion relationship\n",
      "\n",
      "-- note: fitType='parametric', but the dispersion trend was not well captured by the\n",
      "   function: y = a/x + b, and a local regression fit was automatically substituted.\n",
      "   specify fitType='local' or 'mean' to avoid this message next time.\n",
      "\n",
      "final dispersion estimates\n",
      "\n",
      "fitting model and testing\n",
      "\n",
      "-- replacing outliers and refitting for 407 genes\n",
      "-- DESeq argument 'minReplicatesForReplace' = 7 \n",
      "-- original counts are preserved in counts(dds)\n",
      "\n",
      "estimating dispersions\n",
      "\n",
      "fitting model and testing\n",
      "\n"
     ]
    }
   ],
   "source": [
    "## DESEQ - WBRNA\n",
    "meta_wb = meta[meta$Biofluid==\"wb\",]\n",
    "meta_wb = meta_wb[!is.na(meta_wb$Microbiologic.reference.standard),]\n",
    "meta_wb = meta_wb[meta_wb$Microbiologic.reference.standard!=\"\",]\n",
    "rownames(meta_wb)=meta_wb$Cornell_ID\n",
    "\n",
    "counts_wb = read.delim(count_matrix_wb, row.names=c(\"geneID\")) %>% select(-c(row.names))\n",
    "counts_wb = counts_wb[,colnames(counts_wb) %in% meta_wb$Cornell_ID]\n",
    "\n",
    "GROUPS = c(\"Positive\",\"Negative\")\n",
    "meta_wb$expGroup = meta_wb$Microbiologic.reference.standard\n",
    "meta_wb$expGroup=factor(meta_wb$expGroup, levels=GROUPS)\n",
    "\n",
    "gene.list <- read.delim(gene_name_key,col.names = c(\"type,\",\"ENSMBL\",\"gene_symbol\"))\n",
    "gene.ids <- gsub(\"\\\\..*\",\"\",rownames(counts_wb))\n",
    "\n",
    "exclude.idx <- gene.ids %in% gene.list[,1]\n",
    "counts_wb = counts_wb[!exclude.idx,]   \n",
    "counts_wb = counts_wb[,meta_wb$Cornell_ID]\n",
    "\n",
    "##------------------------------------\n",
    "# Contstruct DESeq Data Set\n",
    "dds_wb <- DESeqDataSetFromMatrix(round(counts_wb),\n",
    "                                colData = meta_wb,\n",
    "                                design = ~ expGroup  +  0)\n",
    "\n",
    "\n",
    "##------------------------------------\n",
    "# Add Gene metadata\n",
    "annotation = fread(file=gene_name_key)\n",
    "annotation <- annotation[match(rownames(dds_wb), annotation$gene_id),]\n",
    "all(rownames(dds_wb) == annotation$ftcount_id)\n",
    "mcols(dds_wb) <- cbind(mcols(dds_wb), annotation)\n",
    "\n",
    "\n",
    "##------------------------------------\n",
    "# Re-factor\n",
    "dds_wb$expGroup <- factor(dds_wb$expGroup, levels = GROUPS)\n",
    "\n",
    "##------------------------------------\n",
    "# DAA\n",
    "dds_wb <- DESeq(dds_wb)\n",
    "\n",
    "res_wb <- results(dds_wb,alpha=0.01, contrast = c(\"expGroup\",\"Positive\", \"Negative\"))\n",
    "\n",
    "res_wb$gene_name <- mcols(dds_wb)$gene_name\n",
    "res_wb$gene_type <- mcols(dds_wb)$gene_type\n",
    "\n",
    "sig_genes_wb <- data.frame(res_wb) %>% filter(padj < SIG_THRESH & abs(log2FoldChange) > FC_THRESH) %>% rownames()"
   ]
  },
  {
   "cell_type": "code",
   "execution_count": 19,
   "id": "f50595ea",
   "metadata": {
    "scrolled": true
   },
   "outputs": [],
   "source": [
    "sig_genes_plasma = read.table(\"../files_for_manuscript/DESEq2_output_w_validation.tsv\", header=T)\n",
    "sig_genes_wb = gene.list[gene.list$`type.` %in% sig_genes_wb,]"
   ]
  },
  {
   "cell_type": "code",
   "execution_count": 20,
   "id": "9f7b37ec",
   "metadata": {
    "scrolled": false
   },
   "outputs": [],
   "source": [
    "int = dim(intersect(sig_genes_plasma,sig_genes_wb))[1]\n",
    "u_wb = dim(sig_genes_wb)[1]-int\n",
    "u_pl = dim(sig_genes_plasma)[1]-int"
   ]
  },
  {
   "cell_type": "code",
   "execution_count": 21,
   "id": "b0c30040",
   "metadata": {},
   "outputs": [
    {
     "data": {
      "image/png": "[encoded data removed]",
      "text/plain": [
       "plot without title"
      ]
     },
     "metadata": {
      "image/png": {
       "height": 54,
       "width": 90
      }
     },
     "output_type": "display_data"
    }
   ],
   "source": [
    "options(repr.plot.height=0.9, repr.plot.width=1.5)\n",
    "\n",
    "VennDiag = euler(c(\"Plasma\"=u_pl, \"WB\"=u_wb, \"Plasma&WB\"=int))\n",
    "plot(VennDiag, counts=TRUE, fill=c(\"#F88C1A\",\"#00AC00\"), alpha=0.3)"
   ]
  },
  {
   "cell_type": "code",
   "execution_count": 22,
   "id": "d479bd89",
   "metadata": {},
   "outputs": [
    {
     "data": {
      "text/html": [
       "<table class=\"dataframe\">\n",
       "<caption>A data.frame: 5 × 3</caption>\n",
       "<thead>\n",
       "\t<tr><th scope=col>type.</th><th scope=col>ENSMBL</th><th scope=col>gene_symbol</th></tr>\n",
       "\t<tr><th scope=col>&lt;chr&gt;</th><th scope=col>&lt;chr&gt;</th><th scope=col>&lt;chr&gt;</th></tr>\n",
       "</thead>\n",
       "<tbody>\n",
       "\t<tr><td>ENSG00000162645.13</td><td>GBP2  </td><td>protein_coding</td></tr>\n",
       "\t<tr><td>ENSG00000154451.14</td><td>GBP5  </td><td>protein_coding</td></tr>\n",
       "\t<tr><td>ENSG00000162747.12</td><td>FCGR3B</td><td>protein_coding</td></tr>\n",
       "\t<tr><td>ENSG00000135636.15</td><td>DYSF  </td><td>protein_coding</td></tr>\n",
       "\t<tr><td>ENSG00000146592.17</td><td>CREB5 </td><td>protein_coding</td></tr>\n",
       "</tbody>\n",
       "</table>\n"
      ],
      "text/latex": [
       "A data.frame: 5 × 3\n",
       "\\begin{tabular}{lll}\n",
       " type. & ENSMBL & gene\\_symbol\\\\\n",
       " <chr> & <chr> & <chr>\\\\\n",
       "\\hline\n",
       "\t ENSG00000162645.13 & GBP2   & protein\\_coding\\\\\n",
       "\t ENSG00000154451.14 & GBP5   & protein\\_coding\\\\\n",
       "\t ENSG00000162747.12 & FCGR3B & protein\\_coding\\\\\n",
       "\t ENSG00000135636.15 & DYSF   & protein\\_coding\\\\\n",
       "\t ENSG00000146592.17 & CREB5  & protein\\_coding\\\\\n",
       "\\end{tabular}\n"
      ],
      "text/markdown": [
       "\n",
       "A data.frame: 5 × 3\n",
       "\n",
       "| type. &lt;chr&gt; | ENSMBL &lt;chr&gt; | gene_symbol &lt;chr&gt; |\n",
       "|---|---|---|\n",
       "| ENSG00000162645.13 | GBP2   | protein_coding |\n",
       "| ENSG00000154451.14 | GBP5   | protein_coding |\n",
       "| ENSG00000162747.12 | FCGR3B | protein_coding |\n",
       "| ENSG00000135636.15 | DYSF   | protein_coding |\n",
       "| ENSG00000146592.17 | CREB5  | protein_coding |\n",
       "\n"
      ],
      "text/plain": [
       "  type.              ENSMBL gene_symbol   \n",
       "1 ENSG00000162645.13 GBP2   protein_coding\n",
       "2 ENSG00000154451.14 GBP5   protein_coding\n",
       "3 ENSG00000162747.12 FCGR3B protein_coding\n",
       "4 ENSG00000135636.15 DYSF   protein_coding\n",
       "5 ENSG00000146592.17 CREB5  protein_coding"
      ]
     },
     "metadata": {},
     "output_type": "display_data"
    }
   ],
   "source": [
    "intersect(sig_genes_plasma, sig_genes_wb) %>% filter(ENSMBL %in% gene.list[gene.list$`type` %in% signature,2])"
   ]
  },
  {
   "cell_type": "markdown",
   "id": "d8f9f8b8",
   "metadata": {},
   "source": [
    "## FIG 4E"
   ]
  },
  {
   "cell_type": "code",
   "execution_count": 23,
   "id": "61f4d5e8",
   "metadata": {},
   "outputs": [],
   "source": [
    "counts_wb = read.delim(count_matrix_wb, row.names=c(\"geneID\")) %>% select(-c(row.names))\n",
    "counts_plasma = read.delim(count_file_plasma, row.names=c(1))"
   ]
  },
  {
   "cell_type": "code",
   "execution_count": 24,
   "id": "be7508b6",
   "metadata": {},
   "outputs": [],
   "source": [
    "GeomSplitViolin <- ggproto(\"GeomSplitViolin\", GeomViolin, \n",
    "                           draw_group = function(self, data, ..., draw_quantiles = NULL) {\n",
    "                               data <- transform(data, xminv = x - violinwidth * (x - xmin), xmaxv = x + violinwidth * (xmax - x))\n",
    "                               grp <- data[1, \"group\"]\n",
    "                               newdata <- plyr::arrange(transform(data, x = if (grp %% 2 == 1) xminv else xmaxv), if (grp %% 2 == 1) y else -y)\n",
    "                               newdata <- rbind(newdata[1, ], newdata, newdata[nrow(newdata), ], newdata[1, ])\n",
    "                               newdata[c(1, nrow(newdata) - 1, nrow(newdata)), \"x\"] <- round(newdata[1, \"x\"])\n",
    "                               \n",
    "                               if (length(draw_quantiles) > 0 & !scales::zero_range(range(data$y))) {\n",
    "                                   stopifnot(all(draw_quantiles >= 0), all(draw_quantiles <=\n",
    "                                                                               1))\n",
    "                                   quantiles <- ggplot2:::create_quantile_segment_frame(data, draw_quantiles)\n",
    "                                   aesthetics <- data[rep(1, nrow(quantiles)), setdiff(names(data), c(\"x\", \"y\")), drop = FALSE]\n",
    "                                   aesthetics$alpha <- rep(1, nrow(quantiles))\n",
    "                                   both <- cbind(quantiles, aesthetics)\n",
    "                                   quantile_grob <- GeomPath$draw_panel(both, ...)\n",
    "                                   ggplot2:::ggname(\"geom_split_violin\", grid::grobTree(GeomPolygon$draw_panel(newdata, ...), quantile_grob))\n",
    "                               }\n",
    "                               else {\n",
    "                                   ggplot2:::ggname(\"geom_split_violin\", GeomPolygon$draw_panel(newdata, ...))\n",
    "                               }\n",
    "                           })\n",
    "geom_split_violin <- function(mapping = NULL, data = NULL, stat = \"ydensity\", position = \"identity\", ..., \n",
    "                              draw_quantiles = NULL, trim = TRUE, scale = \"area\", na.rm = FALSE, \n",
    "                              show.legend = NA, inherit.aes = TRUE) {\n",
    "    layer(data = data, mapping = mapping, stat = stat, geom = GeomSplitViolin, \n",
    "          position = position, show.legend = show.legend, inherit.aes = inherit.aes, \n",
    "          params = list(trim = trim, scale = scale, draw_quantiles = draw_quantiles, na.rm = na.rm, ...))\n",
    "}"
   ]
  },
  {
   "cell_type": "code",
   "execution_count": 25,
   "id": "5f508f39",
   "metadata": {},
   "outputs": [
    {
     "name": "stderr",
     "output_type": "stream",
     "text": [
      "Warning message:\n",
      "“\u001b[1m\u001b[22mGroups with fewer than two data points have been dropped.”\n",
      "Warning message:\n",
      "“\u001b[1m\u001b[22mGroups with fewer than two data points have been dropped.”\n"
     ]
    },
    {
     "data": {
      "image/png": "[encoded data removed]",
      "text/plain": [
       "plot without title"
      ]
     },
     "metadata": {
      "image/png": {
       "height": 78,
       "width": 66
      }
     },
     "output_type": "display_data"
    }
   ],
   "source": [
    " options(repr.plot.height=1.3, repr.plot.width=1.1)\n",
    "\n",
    "rbind( counts_wb[rownames(counts_wb) %in% keep.gene,] %>% edgeR::cpm() %>% data.frame() %>%\n",
    "filter(rownames(.) %in% gene.list[gene.list$ENSMBL %in% c(\"MARCO\"),1]) %>% \n",
    "data.frame() %>% mutate_all(as.numeric) %>% \n",
    "mutate( log2( . +1)) %>% t() %>% data.frame() %>% tibble::add_column(\"sample\"=rownames(.)) %>%\n",
    "reshape2::melt(. ,id.var=\"sample\") %>% merge(.,meta, by.x=\"sample\", by.y=\"Cornell_ID\") ,\n",
    "counts_plasma[rownames(counts_plasma) %in% keep.gene,] %>% edgeR::cpm() %>% data.frame() %>%\n",
    "filter(rownames(.) %in% gene.list[gene.list$ENSMBL %in% c(\"MARCO\"),1]) %>% \n",
    "data.frame() %>% mutate_all(as.numeric) %>% \n",
    "mutate( log2( . +1)) %>% t() %>% data.frame() %>% tibble::add_column(\"sample\"=rownames(.)) %>%\n",
    "reshape2::melt(. ,id.var=\"sample\") %>% merge(.,meta, by.x=\"sample\", by.y=\"Cornell_ID\") )%>% \n",
    "filter(value!=0)%>%data.frame() %>%\n",
    "    ggplot(aes(x=Biofluid, y=value, fill=Microbiologic.reference.standard))+ geom_split_violin()+\n",
    "    scale_fill_manual(values=c(\"#433F60\", \"#FF70A6\")) + theme_bw(base_size=8)+\n",
    "    ylab(\"log2(counts per million + 1)\")  +  scale_x_discrete(labels=c(\"Plasma\\ncfRNA\", \"WB\\nRNA\"))+\n",
    "theme(legend.position=\"none\",\n",
    "     axis.title.x=element_blank(),\n",
    "     axis.title=element_text(size=8, color=\"black\"),\n",
    "     axis.text=element_text(color=\"black\", size=8)) "
   ]
  },
  {
   "cell_type": "code",
   "execution_count": 26,
   "id": "8a978f39",
   "metadata": {
    "scrolled": true
   },
   "outputs": [
    {
     "data": {
      "text/html": [
       "<table class=\"dataframe\">\n",
       "<caption>A tibble: 6 × 9</caption>\n",
       "<thead>\n",
       "\t<tr><th scope=col>Biofluid</th><th scope=col>.y.</th><th scope=col>group1</th><th scope=col>group2</th><th scope=col>p</th><th scope=col>p.adj</th><th scope=col>p.format</th><th scope=col>p.signif</th><th scope=col>method</th></tr>\n",
       "\t<tr><th scope=col>&lt;chr&gt;</th><th scope=col>&lt;chr&gt;</th><th scope=col>&lt;chr&gt;</th><th scope=col>&lt;chr&gt;</th><th scope=col>&lt;dbl&gt;</th><th scope=col>&lt;dbl&gt;</th><th scope=col>&lt;chr&gt;</th><th scope=col>&lt;chr&gt;</th><th scope=col>&lt;chr&gt;</th></tr>\n",
       "</thead>\n",
       "<tbody>\n",
       "\t<tr><td>wb    </td><td>value</td><td>Negative</td><td>Positive</td><td>0.189959664</td><td>0.7300</td><td>0.1900</td><td>ns</td><td>Wilcoxon</td></tr>\n",
       "\t<tr><td>wb    </td><td>value</td><td>Negative</td><td>        </td><td>0.315789474</td><td>0.7300</td><td>0.3158</td><td>ns</td><td>Wilcoxon</td></tr>\n",
       "\t<tr><td>wb    </td><td>value</td><td>Positive</td><td>        </td><td>0.137931034</td><td>0.6900</td><td>0.1379</td><td>ns</td><td>Wilcoxon</td></tr>\n",
       "\t<tr><td>plasma</td><td>value</td><td>Negative</td><td>Positive</td><td>0.001454066</td><td>0.0087</td><td>0.0015</td><td>**</td><td>Wilcoxon</td></tr>\n",
       "\t<tr><td>plasma</td><td>value</td><td>Negative</td><td>        </td><td>1.000000000</td><td>1.0000</td><td>1.0000</td><td>ns</td><td>Wilcoxon</td></tr>\n",
       "\t<tr><td>plasma</td><td>value</td><td>Positive</td><td>        </td><td>0.181818182</td><td>0.7300</td><td>0.1818</td><td>ns</td><td>Wilcoxon</td></tr>\n",
       "</tbody>\n",
       "</table>\n"
      ],
      "text/latex": [
       "A tibble: 6 × 9\n",
       "\\begin{tabular}{lllllllll}\n",
       " Biofluid & .y. & group1 & group2 & p & p.adj & p.format & p.signif & method\\\\\n",
       " <chr> & <chr> & <chr> & <chr> & <dbl> & <dbl> & <chr> & <chr> & <chr>\\\\\n",
       "\\hline\n",
       "\t wb     & value & Negative & Positive & 0.189959664 & 0.7300 & 0.1900 & ns & Wilcoxon\\\\\n",
       "\t wb     & value & Negative &          & 0.315789474 & 0.7300 & 0.3158 & ns & Wilcoxon\\\\\n",
       "\t wb     & value & Positive &          & 0.137931034 & 0.6900 & 0.1379 & ns & Wilcoxon\\\\\n",
       "\t plasma & value & Negative & Positive & 0.001454066 & 0.0087 & 0.0015 & ** & Wilcoxon\\\\\n",
       "\t plasma & value & Negative &          & 1.000000000 & 1.0000 & 1.0000 & ns & Wilcoxon\\\\\n",
       "\t plasma & value & Positive &          & 0.181818182 & 0.7300 & 0.1818 & ns & Wilcoxon\\\\\n",
       "\\end{tabular}\n"
      ],
      "text/markdown": [
       "\n",
       "A tibble: 6 × 9\n",
       "\n",
       "| Biofluid &lt;chr&gt; | .y. &lt;chr&gt; | group1 &lt;chr&gt; | group2 &lt;chr&gt; | p &lt;dbl&gt; | p.adj &lt;dbl&gt; | p.format &lt;chr&gt; | p.signif &lt;chr&gt; | method &lt;chr&gt; |\n",
       "|---|---|---|---|---|---|---|---|---|\n",
       "| wb     | value | Negative | Positive | 0.189959664 | 0.7300 | 0.1900 | ns | Wilcoxon |\n",
       "| wb     | value | Negative | <!----> | 0.315789474 | 0.7300 | 0.3158 | ns | Wilcoxon |\n",
       "| wb     | value | Positive | <!----> | 0.137931034 | 0.6900 | 0.1379 | ns | Wilcoxon |\n",
       "| plasma | value | Negative | Positive | 0.001454066 | 0.0087 | 0.0015 | ** | Wilcoxon |\n",
       "| plasma | value | Negative | <!----> | 1.000000000 | 1.0000 | 1.0000 | ns | Wilcoxon |\n",
       "| plasma | value | Positive | <!----> | 0.181818182 | 0.7300 | 0.1818 | ns | Wilcoxon |\n",
       "\n"
      ],
      "text/plain": [
       "  Biofluid .y.   group1   group2   p           p.adj  p.format p.signif\n",
       "1 wb       value Negative Positive 0.189959664 0.7300 0.1900   ns      \n",
       "2 wb       value Negative          0.315789474 0.7300 0.3158   ns      \n",
       "3 wb       value Positive          0.137931034 0.6900 0.1379   ns      \n",
       "4 plasma   value Negative Positive 0.001454066 0.0087 0.0015   **      \n",
       "5 plasma   value Negative          1.000000000 1.0000 1.0000   ns      \n",
       "6 plasma   value Positive          0.181818182 0.7300 0.1818   ns      \n",
       "  method  \n",
       "1 Wilcoxon\n",
       "2 Wilcoxon\n",
       "3 Wilcoxon\n",
       "4 Wilcoxon\n",
       "5 Wilcoxon\n",
       "6 Wilcoxon"
      ]
     },
     "metadata": {},
     "output_type": "display_data"
    }
   ],
   "source": [
    "rbind( counts_wb[rownames(counts_wb) %in% keep.gene,] %>% edgeR::cpm() %>% data.frame() %>%\n",
    "filter(rownames(.) %in% gene.list[gene.list$ENSMBL %in% c(\"MARCO\"),1]) %>% \n",
    "data.frame() %>% mutate_all(as.numeric) %>% \n",
    "mutate( log2( . +1)) %>% t() %>% data.frame() %>% tibble::add_column(\"sample\"=rownames(.)) %>%\n",
    "reshape2::melt(. ,id.var=\"sample\") %>% merge(.,meta, by.x=\"sample\", by.y=\"Cornell_ID\") ,\n",
    "counts_plasma[rownames(counts_plasma) %in% keep.gene,] %>% edgeR::cpm() %>% data.frame() %>%\n",
    "filter(rownames(.) %in% gene.list[gene.list$ENSMBL %in% c(\"MARCO\"),1]) %>% \n",
    "data.frame() %>% mutate_all(as.numeric) %>% \n",
    "mutate( log2( . +1)) %>% t() %>% data.frame() %>% tibble::add_column(\"sample\"=rownames(.)) %>%\n",
    "reshape2::melt(. ,id.var=\"sample\") %>% merge(.,meta, by.x=\"sample\", by.y=\"Cornell_ID\") )%>% \n",
    "filter(value!=0)%>%data.frame()  %>%\n",
    "compare_means(data = ., value~Microbiologic.reference.standard, group.by=\"Biofluid\")"
   ]
  },
  {
   "cell_type": "code",
   "execution_count": 29,
   "id": "7ec98455",
   "metadata": {},
   "outputs": [
    {
     "name": "stderr",
     "output_type": "stream",
     "text": [
      "Warning message:\n",
      "“Detected the following probable line magics. They do not work in R Markdown.\n",
      "\n",
      "  colors = pal”\n"
     ]
    }
   ],
   "source": [
    "library(rmarkdown)\n",
    "convert_ipynb(\"Fig4_code.ipynb\", output = xfun::with_ext(\"Fig4_code\", \"Rmd\"))"
   ]
  }
 ],
 "metadata": {
  "kernelspec": {
   "display_name": "R",
   "language": "R",
   "name": "ir"
  },
  "language_info": {
   "codemirror_mode": "r",
   "file_extension": ".r",
   "mimetype": "text/x-r-source",
   "name": "R",
   "pygments_lexer": "r",
   "version": "4.1.3"
  }
 },
 "nbformat": 4,
 "nbformat_minor": 5
}
